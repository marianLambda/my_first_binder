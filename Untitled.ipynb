{
 "cells": [
  {
   "cell_type": "code",
   "execution_count": 2,
   "metadata": {},
   "outputs": [],
   "source": [
    "using DataFrames, CSV"
   ]
  },
  {
   "cell_type": "code",
   "execution_count": 3,
   "metadata": {},
   "outputs": [
    {
     "data": {
      "text/html": [
       "<table class=\"data-frame\"><thead><tr><th></th><th>Id</th><th>SepalLengthCm</th><th>SepalWidthCm</th><th>PetalLengthCm</th><th>PetalWidthCm</th><th>Species</th></tr><tr><th></th><th>Int64</th><th>Float64</th><th>Float64</th><th>Float64</th><th>Float64</th><th>String</th></tr></thead><tbody><p>100 rows × 6 columns</p><tr><th>1</th><td>51</td><td>7.0</td><td>3.2</td><td>4.7</td><td>1.4</td><td>Iris-versicolor</td></tr><tr><th>2</th><td>52</td><td>6.4</td><td>3.2</td><td>4.5</td><td>1.5</td><td>Iris-versicolor</td></tr><tr><th>3</th><td>53</td><td>6.9</td><td>3.1</td><td>4.9</td><td>1.5</td><td>Iris-versicolor</td></tr><tr><th>4</th><td>54</td><td>5.5</td><td>2.3</td><td>4.0</td><td>1.3</td><td>Iris-versicolor</td></tr><tr><th>5</th><td>55</td><td>6.5</td><td>2.8</td><td>4.6</td><td>1.5</td><td>Iris-versicolor</td></tr><tr><th>6</th><td>56</td><td>5.7</td><td>2.8</td><td>4.5</td><td>1.3</td><td>Iris-versicolor</td></tr><tr><th>7</th><td>57</td><td>6.3</td><td>3.3</td><td>4.7</td><td>1.6</td><td>Iris-versicolor</td></tr><tr><th>8</th><td>58</td><td>4.9</td><td>2.4</td><td>3.3</td><td>1.0</td><td>Iris-versicolor</td></tr><tr><th>9</th><td>59</td><td>6.6</td><td>2.9</td><td>4.6</td><td>1.3</td><td>Iris-versicolor</td></tr><tr><th>10</th><td>60</td><td>5.2</td><td>2.7</td><td>3.9</td><td>1.4</td><td>Iris-versicolor</td></tr><tr><th>11</th><td>61</td><td>5.0</td><td>2.0</td><td>3.5</td><td>1.0</td><td>Iris-versicolor</td></tr><tr><th>12</th><td>62</td><td>5.9</td><td>3.0</td><td>4.2</td><td>1.5</td><td>Iris-versicolor</td></tr><tr><th>13</th><td>63</td><td>6.0</td><td>2.2</td><td>4.0</td><td>1.0</td><td>Iris-versicolor</td></tr><tr><th>14</th><td>64</td><td>6.1</td><td>2.9</td><td>4.7</td><td>1.4</td><td>Iris-versicolor</td></tr><tr><th>15</th><td>65</td><td>5.6</td><td>2.9</td><td>3.6</td><td>1.3</td><td>Iris-versicolor</td></tr><tr><th>16</th><td>66</td><td>6.7</td><td>3.1</td><td>4.4</td><td>1.4</td><td>Iris-versicolor</td></tr><tr><th>17</th><td>67</td><td>5.6</td><td>3.0</td><td>4.5</td><td>1.5</td><td>Iris-versicolor</td></tr><tr><th>18</th><td>68</td><td>5.8</td><td>2.7</td><td>4.1</td><td>1.0</td><td>Iris-versicolor</td></tr><tr><th>19</th><td>69</td><td>6.2</td><td>2.2</td><td>4.5</td><td>1.5</td><td>Iris-versicolor</td></tr><tr><th>20</th><td>70</td><td>5.6</td><td>2.5</td><td>3.9</td><td>1.1</td><td>Iris-versicolor</td></tr><tr><th>21</th><td>71</td><td>5.9</td><td>3.2</td><td>4.8</td><td>1.8</td><td>Iris-versicolor</td></tr><tr><th>22</th><td>72</td><td>6.1</td><td>2.8</td><td>4.0</td><td>1.3</td><td>Iris-versicolor</td></tr><tr><th>23</th><td>73</td><td>6.3</td><td>2.5</td><td>4.9</td><td>1.5</td><td>Iris-versicolor</td></tr><tr><th>24</th><td>74</td><td>6.1</td><td>2.8</td><td>4.7</td><td>1.2</td><td>Iris-versicolor</td></tr><tr><th>25</th><td>75</td><td>6.4</td><td>2.9</td><td>4.3</td><td>1.3</td><td>Iris-versicolor</td></tr><tr><th>26</th><td>76</td><td>6.6</td><td>3.0</td><td>4.4</td><td>1.4</td><td>Iris-versicolor</td></tr><tr><th>27</th><td>77</td><td>6.8</td><td>2.8</td><td>4.8</td><td>1.4</td><td>Iris-versicolor</td></tr><tr><th>28</th><td>78</td><td>6.7</td><td>3.0</td><td>5.0</td><td>1.7</td><td>Iris-versicolor</td></tr><tr><th>29</th><td>79</td><td>6.0</td><td>2.9</td><td>4.5</td><td>1.5</td><td>Iris-versicolor</td></tr><tr><th>30</th><td>80</td><td>5.7</td><td>2.6</td><td>3.5</td><td>1.0</td><td>Iris-versicolor</td></tr><tr><th>&vellip;</th><td>&vellip;</td><td>&vellip;</td><td>&vellip;</td><td>&vellip;</td><td>&vellip;</td><td>&vellip;</td></tr></tbody></table>"
      ],
      "text/latex": [
       "\\begin{tabular}{r|cccccc}\n",
       "\t& Id & SepalLengthCm & SepalWidthCm & PetalLengthCm & PetalWidthCm & Species\\\\\n",
       "\t\\hline\n",
       "\t& Int64 & Float64 & Float64 & Float64 & Float64 & String\\\\\n",
       "\t\\hline\n",
       "\t1 & 51 & 7.0 & 3.2 & 4.7 & 1.4 & Iris-versicolor \\\\\n",
       "\t2 & 52 & 6.4 & 3.2 & 4.5 & 1.5 & Iris-versicolor \\\\\n",
       "\t3 & 53 & 6.9 & 3.1 & 4.9 & 1.5 & Iris-versicolor \\\\\n",
       "\t4 & 54 & 5.5 & 2.3 & 4.0 & 1.3 & Iris-versicolor \\\\\n",
       "\t5 & 55 & 6.5 & 2.8 & 4.6 & 1.5 & Iris-versicolor \\\\\n",
       "\t6 & 56 & 5.7 & 2.8 & 4.5 & 1.3 & Iris-versicolor \\\\\n",
       "\t7 & 57 & 6.3 & 3.3 & 4.7 & 1.6 & Iris-versicolor \\\\\n",
       "\t8 & 58 & 4.9 & 2.4 & 3.3 & 1.0 & Iris-versicolor \\\\\n",
       "\t9 & 59 & 6.6 & 2.9 & 4.6 & 1.3 & Iris-versicolor \\\\\n",
       "\t10 & 60 & 5.2 & 2.7 & 3.9 & 1.4 & Iris-versicolor \\\\\n",
       "\t11 & 61 & 5.0 & 2.0 & 3.5 & 1.0 & Iris-versicolor \\\\\n",
       "\t12 & 62 & 5.9 & 3.0 & 4.2 & 1.5 & Iris-versicolor \\\\\n",
       "\t13 & 63 & 6.0 & 2.2 & 4.0 & 1.0 & Iris-versicolor \\\\\n",
       "\t14 & 64 & 6.1 & 2.9 & 4.7 & 1.4 & Iris-versicolor \\\\\n",
       "\t15 & 65 & 5.6 & 2.9 & 3.6 & 1.3 & Iris-versicolor \\\\\n",
       "\t16 & 66 & 6.7 & 3.1 & 4.4 & 1.4 & Iris-versicolor \\\\\n",
       "\t17 & 67 & 5.6 & 3.0 & 4.5 & 1.5 & Iris-versicolor \\\\\n",
       "\t18 & 68 & 5.8 & 2.7 & 4.1 & 1.0 & Iris-versicolor \\\\\n",
       "\t19 & 69 & 6.2 & 2.2 & 4.5 & 1.5 & Iris-versicolor \\\\\n",
       "\t20 & 70 & 5.6 & 2.5 & 3.9 & 1.1 & Iris-versicolor \\\\\n",
       "\t21 & 71 & 5.9 & 3.2 & 4.8 & 1.8 & Iris-versicolor \\\\\n",
       "\t22 & 72 & 6.1 & 2.8 & 4.0 & 1.3 & Iris-versicolor \\\\\n",
       "\t23 & 73 & 6.3 & 2.5 & 4.9 & 1.5 & Iris-versicolor \\\\\n",
       "\t24 & 74 & 6.1 & 2.8 & 4.7 & 1.2 & Iris-versicolor \\\\\n",
       "\t25 & 75 & 6.4 & 2.9 & 4.3 & 1.3 & Iris-versicolor \\\\\n",
       "\t26 & 76 & 6.6 & 3.0 & 4.4 & 1.4 & Iris-versicolor \\\\\n",
       "\t27 & 77 & 6.8 & 2.8 & 4.8 & 1.4 & Iris-versicolor \\\\\n",
       "\t28 & 78 & 6.7 & 3.0 & 5.0 & 1.7 & Iris-versicolor \\\\\n",
       "\t29 & 79 & 6.0 & 2.9 & 4.5 & 1.5 & Iris-versicolor \\\\\n",
       "\t30 & 80 & 5.7 & 2.6 & 3.5 & 1.0 & Iris-versicolor \\\\\n",
       "\t$\\dots$ & $\\dots$ & $\\dots$ & $\\dots$ & $\\dots$ & $\\dots$ & $\\dots$ \\\\\n",
       "\\end{tabular}\n"
      ],
      "text/plain": [
       "100×6 DataFrame. Omitted printing of 1 columns\n",
       "│ Row │ Id    │ SepalLengthCm │ SepalWidthCm │ PetalLengthCm │ PetalWidthCm │\n",
       "│     │ \u001b[90mInt64\u001b[39m │ \u001b[90mFloat64\u001b[39m       │ \u001b[90mFloat64\u001b[39m      │ \u001b[90mFloat64\u001b[39m       │ \u001b[90mFloat64\u001b[39m      │\n",
       "├─────┼───────┼───────────────┼──────────────┼───────────────┼──────────────┤\n",
       "│ 1   │ 51    │ 7.0           │ 3.2          │ 4.7           │ 1.4          │\n",
       "│ 2   │ 52    │ 6.4           │ 3.2          │ 4.5           │ 1.5          │\n",
       "│ 3   │ 53    │ 6.9           │ 3.1          │ 4.9           │ 1.5          │\n",
       "│ 4   │ 54    │ 5.5           │ 2.3          │ 4.0           │ 1.3          │\n",
       "│ 5   │ 55    │ 6.5           │ 2.8          │ 4.6           │ 1.5          │\n",
       "│ 6   │ 56    │ 5.7           │ 2.8          │ 4.5           │ 1.3          │\n",
       "│ 7   │ 57    │ 6.3           │ 3.3          │ 4.7           │ 1.6          │\n",
       "│ 8   │ 58    │ 4.9           │ 2.4          │ 3.3           │ 1.0          │\n",
       "│ 9   │ 59    │ 6.6           │ 2.9          │ 4.6           │ 1.3          │\n",
       "│ 10  │ 60    │ 5.2           │ 2.7          │ 3.9           │ 1.4          │\n",
       "⋮\n",
       "│ 90  │ 140   │ 6.9           │ 3.1          │ 5.4           │ 2.1          │\n",
       "│ 91  │ 141   │ 6.7           │ 3.1          │ 5.6           │ 2.4          │\n",
       "│ 92  │ 142   │ 6.9           │ 3.1          │ 5.1           │ 2.3          │\n",
       "│ 93  │ 143   │ 5.8           │ 2.7          │ 5.1           │ 1.9          │\n",
       "│ 94  │ 144   │ 6.8           │ 3.2          │ 5.9           │ 2.3          │\n",
       "│ 95  │ 145   │ 6.7           │ 3.3          │ 5.7           │ 2.5          │\n",
       "│ 96  │ 146   │ 6.7           │ 3.0          │ 5.2           │ 2.3          │\n",
       "│ 97  │ 147   │ 6.3           │ 2.5          │ 5.0           │ 1.9          │\n",
       "│ 98  │ 148   │ 6.5           │ 3.0          │ 5.2           │ 2.0          │\n",
       "│ 99  │ 149   │ 6.2           │ 3.4          │ 5.4           │ 2.3          │\n",
       "│ 100 │ 150   │ 5.9           │ 3.0          │ 5.1           │ 1.8          │"
      ]
     },
     "execution_count": 3,
     "metadata": {},
     "output_type": "execute_result"
    }
   ],
   "source": [
    "a = CSV.read(\"modified_iris.csv\", DataFrame)"
   ]
  },
  {
   "cell_type": "code",
   "execution_count": null,
   "metadata": {},
   "outputs": [],
   "source": []
  }
 ],
 "metadata": {
  "kernelspec": {
   "display_name": "Julia 1.5.3",
   "language": "julia",
   "name": "julia-1.5"
  },
  "language_info": {
   "file_extension": ".jl",
   "mimetype": "application/julia",
   "name": "julia",
   "version": "1.5.3"
  }
 },
 "nbformat": 4,
 "nbformat_minor": 4
}
